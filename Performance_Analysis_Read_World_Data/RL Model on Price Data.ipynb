{
 "cells": [
  {
   "cell_type": "markdown",
   "metadata": {
    "colab": {},
    "colab_type": "code",
    "id": "VKiBv2GIg_JA",
    "pycharm": {
     "name": "#%% md\n"
    }
   },
   "source": [
    "# Notebook Instructions\n",
    "\n",
    "1. All the <u>code and data files</u> used in this course are available in the downloadable unit of the <u>last section of this course</u>.\n",
    "2. You can run the notebook document sequentially (one cell at a time) by pressing **shift + enter**. \n",
    "3. While a cell is running, a [*] is shown on the left. After the cell is run, the output will appear on the next line.\n",
    "\n",
    "This course is based on specific versions of python packages. You can find the details of the packages in <a href='https://quantra.quantinsti.com/quantra-notebook' target=\"_blank\" >this manual</a>."
   ]
  },
  {
   "cell_type": "markdown",
   "metadata": {
    "pycharm": {
     "name": "#%% md\n"
    }
   },
   "source": [
    "#  Applying Reinforcement Learning on Price Data\n",
    "You have already applied the RL model to a synthetic time series. Now it's time to apply that model on actual price data.\n",
    "\n",
    "In this notebook, you will learn how to run the RL model on price and see the reinforcement learning strategy performance.\n",
    "To do this, you need to follow these steps:\n",
    "\n",
    "1. [Import modules](#Import_modules)\n",
    "1. [Read price data](#Read_price_data)\n",
    "1. [Run the RL model on the price data](#RL_run)\n",
    "1. [Analyse strategy performance](#analyse)\n",
    "1. [Result analysis](#results)"
   ]
  },
  {
   "cell_type": "markdown",
   "metadata": {
    "pycharm": {
     "name": "#%% md\n"
    }
   },
   "source": [
    "<a id='Import_modules'></a> \n",
    "## Import modules"
   ]
  },
  {
   "cell_type": "code",
   "execution_count": 1,
   "metadata": {
    "colab": {},
    "colab_type": "code",
    "id": "_Dax01x6g_JM",
    "outputId": "2752c2e2-3ec0-4108-c6e8-c38686b6a5f6",
    "pycharm": {
     "name": "#%%\n"
    }
   },
   "outputs": [
    {
     "name": "stdout",
     "output_type": "stream",
     "text": [
      "\n"
     ]
    },
    {
     "name": "stderr",
     "output_type": "stream",
     "text": [
      "/tmp/ipykernel_3836906/2279997455.py:7: MatplotlibDeprecationWarning: The seaborn styles shipped by Matplotlib are deprecated since 3.6, as they no longer correspond to the styles shipped by seaborn. However, they will remain available as 'seaborn-v0_8-<style>'. Alternatively, directly use the seaborn API instead.\n",
      "  plt.style.use('seaborn-darkgrid')\n"
     ]
    },
    {
     "name": "stdout",
     "output_type": "stream",
     "text": [
      "/mnt/datadisk/sharedPrograms/venv/DLR/bin/python\n"
     ]
    }
   ],
   "source": [
    "!echo $VIRTUAL_ENV\n",
    "# Import libaries\n",
    "import pandas as pd\n",
    "import numpy as np\n",
    "import matplotlib.pyplot as plt\n",
    "%matplotlib inline\n",
    "plt.style.use('seaborn-darkgrid')\n",
    "\n",
    "import os\n",
    "import sys\n",
    "sys.path.append(\"..\")\n",
    "print(sys.executable)\n",
    "# Import Quantra RL libraries\n",
    "from data_modules.quantra_reinforcement_learning import run\n",
    "from data_modules.quantra_reinforcement_learning import reward_exponential_pnl\n",
    "from data_modules.quantra_reinforcement_learning import trade_analytics\n",
    "\n",
    "# Ignore warnings\n",
    "import warnings\n",
    "warnings.filterwarnings(\"ignore\")\n",
    "import tensorflow as tf\n",
    "from tensorflow import keras\n"
   ]
  },
  {
   "cell_type": "code",
   "execution_count": 2,
   "metadata": {},
   "outputs": [],
   "source": [
    "use_cpu = False"
   ]
  },
  {
   "cell_type": "markdown",
   "metadata": {
    "pycharm": {
     "name": "#%% md\n"
    }
   },
   "source": [
    "<a id='Read_price_data'></a>\n",
    "## Read price data"
   ]
  },
  {
   "cell_type": "code",
   "execution_count": 3,
   "metadata": {},
   "outputs": [],
   "source": [
    "# print('keras v', keras.__version__)\n",
    "# print('tf keras v', tf.keras.__version__)\n",
    "# print('tf v', tf.__version__)\n",
    "# # to do: try non eager execution graph?\n",
    "# print('tf eager execution', tf.executing_eagerly())\n",
    "\n",
    "# #turn off cryptic warnings, Note that you might miss important warnings! If unexpected stuff is happening turn it on!\n",
    "# #https://github.com/tensorflow/tensorflow/issues/27023\n",
    "# #Thanks @Mrs Przibylla\n",
    "# #'1' = Infos, '2' = warnings, '3' = Errors\n",
    "# os.environ['TF_CPP_MIN_LOG_LEVEL'] = '2'\n",
    "\n",
    "# # with tf.Session() as sess:\n",
    "# #     devices = sess.list_devices()\n",
    "# # print(devices)\n",
    "# devices = tf.config.experimental.list_physical_devices()\n",
    "# print(devices)\n",
    "\n",
    "# # do not assign complete gpu-memory but grow it as needed\n",
    "# # allows to run multiple models at once (otherwise whole gpu memory gets allocated/gpu gets blocked)\n",
    "gpus = tf.config.experimental.list_physical_devices('GPU')\n",
    "if gpus:\n",
    "    try:\n",
    "        for gpu in gpus:\n",
    "            tf.config.experimental.set_memory_growth(gpu, True)\n",
    "    except RuntimeError as e:\n",
    "        raise e\n",
    "\n",
    "# ###Define Model and MirroredStrategy (for mulit-gpu usage) - shall be initiated at the beginning of the program\n",
    "# # Create a MirroredStrategy and pass the GPUs\n",
    "# if not use_cpu:\n",
    "#     gpus = [0,1,2]\n",
    "#     gpus = [\"GPU:\" + str(i) for i in gpus]\n",
    "#     # https://keras.io/guides/distributed_training/\n",
    "#     print('gpus', gpus)\n",
    "#     strategy = tf.distribute.MirroredStrategy(gpus)\n",
    "#     print('Number of GPUs MirroredStrategy: {}'.format(strategy.num_replicas_in_sync))\n",
    "# elif use_cpu:\n",
    "#     cpus = list(range(40))\n",
    "#     cpus = [\"CPU:\" + str(i) for i in cpus]\n",
    "#     # https://keras.io/guides/distributed_training/\n",
    "#     print('cpus', cpus)\n",
    "#     strategy = tf.distribute.MirroredStrategy(cpus)\n",
    "#     print('Number of CPUs MirroredStrategy: {}'.format(strategy.num_replicas_in_sync))"
   ]
  },
  {
   "cell_type": "code",
   "execution_count": 4,
   "metadata": {
    "pycharm": {
     "name": "#%%\n"
    }
   },
   "outputs": [
    {
     "name": "stdout",
     "output_type": "stream",
     "text": [
      "Num GPUs Available:  3\n"
     ]
    },
    {
     "data": {
      "text/html": [
       "<div>\n",
       "<style scoped>\n",
       "    .dataframe tbody tr th:only-of-type {\n",
       "        vertical-align: middle;\n",
       "    }\n",
       "\n",
       "    .dataframe tbody tr th {\n",
       "        vertical-align: top;\n",
       "    }\n",
       "\n",
       "    .dataframe thead th {\n",
       "        text-align: right;\n",
       "    }\n",
       "</style>\n",
       "<table border=\"1\" class=\"dataframe\">\n",
       "  <thead>\n",
       "    <tr style=\"text-align: right;\">\n",
       "      <th></th>\n",
       "      <th>open</th>\n",
       "      <th>high</th>\n",
       "      <th>low</th>\n",
       "      <th>close</th>\n",
       "      <th>volume</th>\n",
       "    </tr>\n",
       "    <tr>\n",
       "      <th>Time</th>\n",
       "      <th></th>\n",
       "      <th></th>\n",
       "      <th></th>\n",
       "      <th></th>\n",
       "      <th></th>\n",
       "    </tr>\n",
       "  </thead>\n",
       "  <tbody>\n",
       "    <tr>\n",
       "      <th>2020-08-31 15:40:00-04:00</th>\n",
       "      <td>350.44</td>\n",
       "      <td>350.750</td>\n",
       "      <td>350.433</td>\n",
       "      <td>350.692</td>\n",
       "      <td>658254.0</td>\n",
       "    </tr>\n",
       "    <tr>\n",
       "      <th>2020-08-31 15:45:00-04:00</th>\n",
       "      <td>350.71</td>\n",
       "      <td>350.733</td>\n",
       "      <td>350.330</td>\n",
       "      <td>350.680</td>\n",
       "      <td>842439.0</td>\n",
       "    </tr>\n",
       "    <tr>\n",
       "      <th>2020-08-31 15:50:00-04:00</th>\n",
       "      <td>350.69</td>\n",
       "      <td>351.270</td>\n",
       "      <td>350.640</td>\n",
       "      <td>351.210</td>\n",
       "      <td>1640390.0</td>\n",
       "    </tr>\n",
       "    <tr>\n",
       "      <th>2020-08-31 15:55:00-04:00</th>\n",
       "      <td>351.20</td>\n",
       "      <td>351.300</td>\n",
       "      <td>350.565</td>\n",
       "      <td>350.580</td>\n",
       "      <td>1890384.0</td>\n",
       "    </tr>\n",
       "    <tr>\n",
       "      <th>2020-08-31 16:00:00-04:00</th>\n",
       "      <td>350.59</td>\n",
       "      <td>350.730</td>\n",
       "      <td>349.770</td>\n",
       "      <td>349.770</td>\n",
       "      <td>3910688.0</td>\n",
       "    </tr>\n",
       "  </tbody>\n",
       "</table>\n",
       "</div>"
      ],
      "text/plain": [
       "                             open     high      low    close     volume\n",
       "Time                                                                   \n",
       "2020-08-31 15:40:00-04:00  350.44  350.750  350.433  350.692   658254.0\n",
       "2020-08-31 15:45:00-04:00  350.71  350.733  350.330  350.680   842439.0\n",
       "2020-08-31 15:50:00-04:00  350.69  351.270  350.640  351.210  1640390.0\n",
       "2020-08-31 15:55:00-04:00  351.20  351.300  350.565  350.580  1890384.0\n",
       "2020-08-31 16:00:00-04:00  350.59  350.730  349.770  349.770  3910688.0"
      ]
     },
     "execution_count": 4,
     "metadata": {},
     "output_type": "execute_result"
    }
   ],
   "source": [
    "print(\"Num GPUs Available: \", len(tf.config.list_physical_devices('GPU')))\n",
    "# Price data is stored in data_modules\n",
    "path = os.path.join('..','data_modules','PriceData5m.bz2')\n",
    "\n",
    "# Read the price data\n",
    "bars5m = pd.read_pickle(path)\n",
    "\n",
    "# Display the last 5 entries of price data\n",
    "bars5m.tail()"
   ]
  },
  {
   "cell_type": "code",
   "execution_count": 5,
   "metadata": {
    "pycharm": {
     "name": "#%%\n"
    }
   },
   "outputs": [
    {
     "data": {
      "image/png": "[encoded data removed]",
      "text/plain": [
       "<Figure size 1000x700 with 1 Axes>"
      ]
     },
     "metadata": {},
     "output_type": "display_data"
    }
   ],
   "source": [
    "# Define the figure size for the price data\n",
    "bars5m['close'].plot(figsize=(10, 7), color='g')\n",
    "\n",
    "# Add legend to the axis\n",
    "plt.legend()\n",
    "\n",
    "# Add labels\n",
    "plt.ylabel('Price', fontsize=14)\n",
    "plt.xlabel('Time', fontsize=14)\n",
    "plt.title('Price Data', fontsize=16)\n",
    "    \n",
    "# Define the tick size for x-axis and y-axis\n",
    "plt.xticks(fontsize=12)\n",
    "plt.yticks(fontsize=12)\n",
    "\n",
    "# Display the plot\n",
    "plt.show()"
   ]
  },
  {
   "cell_type": "markdown",
   "metadata": {
    "pycharm": {
     "name": "#%% md\n"
    }
   },
   "source": [
    "<a id='RL_run'></a>\n",
    "## Run the RL model on the price data"
   ]
  },
  {
   "cell_type": "code",
   "execution_count": 6,
   "metadata": {
    "colab": {},
    "colab_type": "code",
    "id": "W3VTmDBtg_JV",
    "pycharm": {
     "name": "#%%\n"
    }
   },
   "outputs": [],
   "source": [
    "\"\"\"\n",
    "For running the RL model on the price data, you need to \n",
    "set the configuration parameters.\n",
    "These configuration parameters are hyperparameters for the \n",
    "RL model and the ANN used in it.\n",
    "\"\"\"\n",
    "rl_config = {\n",
    "    \n",
    "             'LEARNING_RATE': 0.00001,\n",
    "             'LOSS_FUNCTION': 'mse',\n",
    "             'ACTIVATION_FUN': 'relu',\n",
    "             'NUM_ACTIONS': 3,\n",
    "             'HIDDEN_MULT': 2,\n",
    "             'DISCOUNT_RATE': 0.9,\n",
    "             'LKBK': 30,\n",
    "             'BATCH_SIZE': 1024,\n",
    "             'MAX_MEM': 600,\n",
    "             'EPSILON': 0.0001,\n",
    "             'EPS_MIN': 0.001,\n",
    "             'START_IDX': 5000,\n",
    "             'WEIGHTS_FILE': '../data_modules/indicator_model_price_data.h5',\n",
    "             'TRADE_FILE': '../data_modules/trade_logs_price_data.bz2',\n",
    "             'REPLAY_FILE': '../data_modules/memory_price_data.bz2',\n",
    "             'RF': reward_exponential_pnl,\n",
    "             'TEST_MODE': False,\n",
    "             'PRELOAD': False,\n",
    "             'UPDATE_QR': True\n",
    "}"
   ]
  },
  {
   "cell_type": "code",
   "execution_count": null,
   "metadata": {
    "colab": {},
    "colab_type": "code",
    "id": "aoHv57YHg_Ja",
    "outputId": "d243a623-a416-4502-ef47-ef630552a5ff",
    "pycharm": {
     "name": "#%%\n"
    },
    "scrolled": true
   },
   "outputs": [
    {
     "name": "stderr",
     "output_type": "stream",
     "text": [
      "2023-01-11 13:11:54.454471: I tensorflow/core/platform/cpu_feature_guard.cc:151] This TensorFlow binary is optimized with oneAPI Deep Neural Network Library (oneDNN) to use the following CPU instructions in performance-critical operations:  AVX2 FMA\n",
      "To enable them in other operations, rebuild TensorFlow with the appropriate compiler flags.\n",
      "2023-01-11 13:11:55.267034: I tensorflow/core/common_runtime/gpu/gpu_device.cc:1525] Created device /job:localhost/replica:0/task:0/device:GPU:0 with 611 MB memory:  -> device: 0, name: NVIDIA RTX A6000, pci bus id: 0000:81:00.0, compute capability: 8.6\n",
      "2023-01-11 13:11:55.267513: I tensorflow/core/common_runtime/gpu/gpu_device.cc:1525] Created device /job:localhost/replica:0/task:0/device:GPU:1 with 46176 MB memory:  -> device: 1, name: NVIDIA RTX A6000, pci bus id: 0000:c1:00.0, compute capability: 8.6\n",
      "2023-01-11 13:11:55.267890: I tensorflow/core/common_runtime/gpu/gpu_device.cc:1525] Created device /job:localhost/replica:0/task:0/device:GPU:2 with 46280 MB memory:  -> device: 2, name: NVIDIA RTX A6000, pci bus id: 0000:c2:00.0, compute capability: 8.6\n",
      "2023-01-11 13:11:55.830879: I tensorflow/stream_executor/cuda/cuda_blas.cc:1786] TensorFloat-32 will be used for the matrix multiplication. This will only be logged once.\n"
     ]
    },
    {
     "name": "stdout",
     "output_type": "stream",
     "text": [
      "r_time:13:11:58 11.01.2023 | Trade:001 | pos:1 | len:5 | approx_cum_ret:-0.30% | trade_ret:-0.30% | eps:1.0010 | t_time:2010-04-07 10:55:00-04:00 | idx:5008\n",
      "r_time:13:13:04 11.01.2023 | Trade:002 | pos:1 | len:32 | approx_cum_ret:-0.24% | trade_ret:0.07% | eps:0.0635 | t_time:2010-04-07 14:20:00-04:00 | idx:5049\n"
     ]
    }
   ],
   "source": [
    "\"\"\"\n",
    "Run the RL model on the price data\n",
    "Note: To run in a local machine, please change the `TEST_MODE` to \n",
    "`False` in `rl_config`\n",
    "\"\"\"\n",
    "# with strategy.scope():\n",
    "run(bars5m, rl_config)"
   ]
  },
  {
   "cell_type": "markdown",
   "metadata": {
    "colab": {},
    "colab_type": "code",
    "id": "52NdzwTMg_Jf",
    "outputId": "10195da0-8cbc-4b24-efb4-1336d61a4040",
    "pycharm": {
     "name": "#%% md\n"
    }
   },
   "source": [
    "<a id='analyse'></a>\n",
    "## Analyse strategy performance for the full dataset\n",
    "\n",
    "Now you will analyse the strategy performance by plotting the returns and drawdown and by calculating a few performance metrics.\n",
    "\n",
    "You can use the `trade_analytics` function from `quantra_reinforcement_learning` module to perform the analysis"
   ]
  },
  {
   "cell_type": "code",
   "execution_count": null,
   "metadata": {
    "colab": {},
    "colab_type": "code",
    "id": "xpS6qF4Dg_Jj",
    "outputId": "a99366c7-8c9f-4110-e2b9-862b6afe7fbc",
    "pycharm": {
     "name": "#%%\n"
    }
   },
   "outputs": [],
   "source": [
    "# Call the trade_analytics function\n",
    "with strategy.scope():\n",
    "    trade_analytics_df = trade_analytics(rl_config['TRADE_FILE'], bars5m, \"Price Data\")"
   ]
  },
  {
   "cell_type": "markdown",
   "metadata": {
    "colab": {},
    "colab_type": "code",
    "id": "7_bFzKK9g_Jt",
    "outputId": "02dd8081-ba99-41de-ab45-488ba0adcdeb",
    "pycharm": {
     "name": "#%% md\n"
    }
   },
   "source": [
    "<a id='results'></a>\n",
    "## Result analysis\n",
    "\n",
    "The RL model performs fairly well on the actual price data. It took some time to learn the pattern, and after the year 2012, it has given consistent returns.\n",
    "\n",
    "Note that the price dips a lot in 2019 and in 2020(corona effect), but the RL model handles it well.\n",
    "\n",
    "In 2019 it manages to keep the returns fairly flat in a crashing market.\n",
    "\n",
    "In 2020, the returns drawdown due to the price crash, but the model makes up for this drawdown remarkably well in a short timeframe."
   ]
  },
  {
   "cell_type": "markdown",
   "metadata": {
    "colab": {},
    "colab_type": "code",
    "id": "U-m5vS0bg_Jn",
    "outputId": "be11ca21-22f8-4267-eda1-2659550903eb",
    "pycharm": {
     "name": "#%% md\n"
    }
   },
   "source": [
    "## Tweak the code\n",
    "You can tweak the code in the following ways:\n",
    "\n",
    "1. Use different data sets: backtest and try out the model on different stock data\n",
    "1. Change the settings of the configuration parameters to see how the RL model performs on changing these settings. A few setting you may try changing:\n",
    "    1. learning rate (`LEARNING_RATE`)\n",
    "    1. lookback period (`LKBK`)\n",
    "    1. batch size (`BATCH_SIZE`)\n",
    "    1. maximum memory buffer (`MAX_MEM`)\n",
    "    1. the epsilon (`EPSILON` or `EPS_MIN`) values \n",
    "\n",
    "In the upcoming units, you will learn how to automate your trades and do paper/live trades.\n",
    "<br><br>"
   ]
  }
 ],
 "metadata": {
  "colab": {
   "collapsed_sections": [],
   "name": "RL on Price Data.ipynb",
   "provenance": []
  },
  "kernelspec": {
   "display_name": "DLR",
   "language": "python",
   "name": "dlr"
  },
  "language_info": {
   "codemirror_mode": {
    "name": "ipython",
    "version": 3
   },
   "file_extension": ".py",
   "mimetype": "text/x-python",
   "name": "python",
   "nbconvert_exporter": "python",
   "pygments_lexer": "ipython3",
   "version": "3.8.10"
  }
 },
 "nbformat": 4,
 "nbformat_minor": 4
}
